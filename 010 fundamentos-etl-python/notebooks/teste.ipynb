{
 "cells": [
  {
   "cell_type": "markdown",
   "id": "1d372cc8-c21f-4263-b052-3e82fc0a87ab",
   "metadata": {},
   "source": [
    "# **Uso do JupyterLab no desktop**"
   ]
  },
  {
   "cell_type": "code",
   "execution_count": 3,
   "id": "e1d366f5-d552-471d-a542-754d3a303530",
   "metadata": {},
   "outputs": [
    {
     "name": "stdout",
     "output_type": "stream",
     "text": [
      "############################################################\n",
      "\n",
      "Notebook gerado pelo JupyterLab instalado na máquina local.\n"
     ]
    }
   ],
   "source": [
    "print(\"#\" * 60)\n",
    "print('\\nNotebook gerado pelo JupyterLab instalado na máquina local.')"
   ]
  },
  {
   "cell_type": "code",
   "execution_count": null,
   "id": "83574c99-2847-43ff-be06-463e8ce11a1a",
   "metadata": {},
   "outputs": [],
   "source": []
  }
 ],
 "metadata": {
  "kernelspec": {
   "display_name": "Python 3 (ipykernel)",
   "language": "python",
   "name": "python3"
  },
  "language_info": {
   "codemirror_mode": {
    "name": "ipython",
    "version": 3
   },
   "file_extension": ".py",
   "mimetype": "text/x-python",
   "name": "python",
   "nbconvert_exporter": "python",
   "pygments_lexer": "ipython3",
   "version": "3.10.4"
  }
 },
 "nbformat": 4,
 "nbformat_minor": 5
}
